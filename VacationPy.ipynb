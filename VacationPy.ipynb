{
 "cells": [
  {
   "cell_type": "markdown",
   "metadata": {},
   "source": [
    "# VacationPy\n",
    "----\n",
    "\n",
    "#### Note\n",
    "* Keep an eye on your API usage. Use https://developers.google.com/maps/reporting/gmp-reporting as reference for how to monitor your usage and billing.\n",
    "\n",
    "* Instructions have been included for each segment. You do not have to follow them exactly, but they are included to help you think through the steps."
   ]
  },
  {
   "cell_type": "code",
   "execution_count": 1,
   "metadata": {},
   "outputs": [
    {
     "name": "stderr",
     "output_type": "stream",
     "text": [
      "ERROR: You must give at least one requirement to install (see \"pip help install\")\n"
     ]
    }
   ],
   "source": [
    "!pip install "
   ]
  },
  {
   "cell_type": "code",
   "execution_count": 2,
   "metadata": {},
   "outputs": [],
   "source": [
    "# Dependencies and Setup\n",
    "import matplotlib.pyplot as plt\n",
    "import pandas as pd\n",
    "import numpy as np\n",
    "import requests\n",
    "import gmaps\n",
    "import os\n",
    "\n",
    "# Import API key\n",
    "from config import g_key"
   ]
  },
  {
   "cell_type": "markdown",
   "metadata": {},
   "source": [
    "### Store Part I results into DataFrame\n",
    "* Load the csv exported in Part I to a DataFrame"
   ]
  },
  {
   "cell_type": "code",
   "execution_count": 3,
   "metadata": {},
   "outputs": [
    {
     "data": {
      "text/plain": [
       "City          534\n",
       "Cloudiness    534\n",
       "Country       530\n",
       "Date          534\n",
       "Humidity      534\n",
       "Lat           534\n",
       "Lng           534\n",
       "Max Temp      534\n",
       "Wind Speed    534\n",
       "dtype: int64"
      ]
     },
     "execution_count": 3,
     "metadata": {},
     "output_type": "execute_result"
    }
   ],
   "source": [
    " cities_df = pd.read_csv('output_data/cities.csv')\n",
    "cities_df.count()"
   ]
  },
  {
   "cell_type": "markdown",
   "metadata": {},
   "source": [
    "### Humidity Heatmap\n",
    "* Configure gmaps.\n",
    "* Use the Lat and Lng as locations and Humidity as the weight.\n",
    "* Add Heatmap layer to map."
   ]
  },
  {
   "cell_type": "code",
   "execution_count": null,
   "metadata": {},
   "outputs": [],
   "source": []
  },
  {
   "cell_type": "code",
   "execution_count": 4,
   "metadata": {},
   "outputs": [
    {
     "data": {
      "application/vnd.jupyter.widget-view+json": {
       "model_id": "8409938e9f3e468abb121293945d2e09",
       "version_major": 2,
       "version_minor": 0
      },
      "text/plain": [
       "Map(configuration={'api_key': None}, data_bounds=[(-45.53741323944851, -179.99999), (85.0, 179.99999)], layers…"
      ]
     },
     "metadata": {},
     "output_type": "display_data"
    }
   ],
   "source": [
    "# Store latitude and longitude in locations\n",
    "locations = cities_df[[\"Lat\", \"Lng\"]]\n",
    "\n",
    "# Fill NaN values and convert to float\n",
    "humidity = cities_df[\"Humidity\"]\n",
    "\n",
    "# Plot Heatmap\n",
    "fig = gmaps.Map()\n",
    "\n",
    "# Create heat layer\n",
    "heat_layer = gmaps.heatmap_layer(locations, weights=humidity)\n",
    "\n",
    "# Add layer\n",
    "fig.add_layer(heat_layer)\n",
    "\n",
    "# Display figure\n",
    "fig"
   ]
  },
  {
   "cell_type": "markdown",
   "metadata": {},
   "source": [
    "### Create new DataFrame fitting weather criteria\n",
    "* Narrow down the cities to fit weather conditions.\n",
    "* Drop any rows will null values."
   ]
  },
  {
   "cell_type": "code",
   "execution_count": 5,
   "metadata": {},
   "outputs": [
    {
     "data": {
      "text/html": [
       "<div>\n",
       "<style scoped>\n",
       "    .dataframe tbody tr th:only-of-type {\n",
       "        vertical-align: middle;\n",
       "    }\n",
       "\n",
       "    .dataframe tbody tr th {\n",
       "        vertical-align: top;\n",
       "    }\n",
       "\n",
       "    .dataframe thead th {\n",
       "        text-align: right;\n",
       "    }\n",
       "</style>\n",
       "<table border=\"1\" class=\"dataframe\">\n",
       "  <thead>\n",
       "    <tr style=\"text-align: right;\">\n",
       "      <th></th>\n",
       "      <th>City</th>\n",
       "      <th>Cloudiness</th>\n",
       "      <th>Country</th>\n",
       "      <th>Date</th>\n",
       "      <th>Humidity</th>\n",
       "      <th>Lat</th>\n",
       "      <th>Lng</th>\n",
       "      <th>Max Temp</th>\n",
       "      <th>Wind Speed</th>\n",
       "    </tr>\n",
       "  </thead>\n",
       "  <tbody>\n",
       "    <tr>\n",
       "      <th>22</th>\n",
       "      <td>Oussouye</td>\n",
       "      <td>0</td>\n",
       "      <td>SN</td>\n",
       "      <td>1607548883</td>\n",
       "      <td>78</td>\n",
       "      <td>12.48</td>\n",
       "      <td>-16.55</td>\n",
       "      <td>75.20</td>\n",
       "      <td>4.70</td>\n",
       "    </tr>\n",
       "    <tr>\n",
       "      <th>219</th>\n",
       "      <td>Quelimane</td>\n",
       "      <td>0</td>\n",
       "      <td>MZ</td>\n",
       "      <td>1607548906</td>\n",
       "      <td>78</td>\n",
       "      <td>-17.88</td>\n",
       "      <td>36.89</td>\n",
       "      <td>78.01</td>\n",
       "      <td>3.36</td>\n",
       "    </tr>\n",
       "    <tr>\n",
       "      <th>246</th>\n",
       "      <td>Chui</td>\n",
       "      <td>0</td>\n",
       "      <td>UY</td>\n",
       "      <td>1607548909</td>\n",
       "      <td>69</td>\n",
       "      <td>-33.70</td>\n",
       "      <td>-53.46</td>\n",
       "      <td>72.25</td>\n",
       "      <td>9.80</td>\n",
       "    </tr>\n",
       "    <tr>\n",
       "      <th>356</th>\n",
       "      <td>Miracatu</td>\n",
       "      <td>0</td>\n",
       "      <td>BR</td>\n",
       "      <td>1607548922</td>\n",
       "      <td>72</td>\n",
       "      <td>-24.28</td>\n",
       "      <td>-47.46</td>\n",
       "      <td>78.71</td>\n",
       "      <td>4.74</td>\n",
       "    </tr>\n",
       "    <tr>\n",
       "      <th>372</th>\n",
       "      <td>Valdivia</td>\n",
       "      <td>0</td>\n",
       "      <td>CL</td>\n",
       "      <td>1607548703</td>\n",
       "      <td>49</td>\n",
       "      <td>-39.81</td>\n",
       "      <td>-73.25</td>\n",
       "      <td>71.60</td>\n",
       "      <td>8.05</td>\n",
       "    </tr>\n",
       "  </tbody>\n",
       "</table>\n",
       "</div>"
      ],
      "text/plain": [
       "          City  Cloudiness Country        Date  Humidity    Lat    Lng  \\\n",
       "22    Oussouye           0      SN  1607548883        78  12.48 -16.55   \n",
       "219  Quelimane           0      MZ  1607548906        78 -17.88  36.89   \n",
       "246       Chui           0      UY  1607548909        69 -33.70 -53.46   \n",
       "356   Miracatu           0      BR  1607548922        72 -24.28 -47.46   \n",
       "372   Valdivia           0      CL  1607548703        49 -39.81 -73.25   \n",
       "\n",
       "     Max Temp  Wind Speed  \n",
       "22      75.20        4.70  \n",
       "219     78.01        3.36  \n",
       "246     72.25        9.80  \n",
       "356     78.71        4.74  \n",
       "372     71.60        8.05  "
      ]
     },
     "execution_count": 5,
     "metadata": {},
     "output_type": "execute_result"
    }
   ],
   "source": [
    "Vcity_df = cities_df.loc[cities_df['Max Temp'] < 80, :]\n",
    "Vcity_df = Vcity_df.loc[Vcity_df['Max Temp'] > 70, :]\n",
    "Vcity_df = Vcity_df.loc[Vcity_df['Wind Speed'] < 10, :]\n",
    "Vcity_df = Vcity_df.loc[Vcity_df['Cloudiness'] == 0, :]\n",
    "Vcity_df.head()"
   ]
  },
  {
   "cell_type": "markdown",
   "metadata": {},
   "source": [
    "### Hotel Map\n",
    "* Store into variable named `hotel_df`.\n",
    "* Add a \"Hotel Name\" column to the DataFrame.\n",
    "* Set parameters to search for hotels with 5000 meters.\n",
    "* Hit the Google Places API for each city's coordinates.\n",
    "* Store the first Hotel result into the DataFrame.\n",
    "* Plot markers on top of the heatmap."
   ]
  },
  {
   "cell_type": "code",
   "execution_count": 6,
   "metadata": {},
   "outputs": [],
   "source": [
    "hotel_df = Vcity_df\n",
    "hotel_df['Hotel Name'] = np.nan\n",
    "#hotel_df\n",
    "target_search = \"Hotel\"\n",
    "target_radius = 5000\n",
    "target_type = \"lodging\"\n",
    "\n",
    "idx = 0\n",
    "for index, row in hotel_df.iterrows():\n",
    "    # set up a parameters dictionary\n",
    "    params = {\n",
    "        \"location\": f\"{row['Lat']}, {row['Lng']}\",\n",
    "        \"keyword\": target_search,\n",
    "        \"radius\": target_radius,\n",
    "        \"type\": target_type,\n",
    "        \"key\": g_key\n",
    "    }\n",
    "\n",
    "    # base url\n",
    "    base_url = \"https://maps.googleapis.com/maps/api/place/nearbysearch/json\"\n",
    "\n",
    "    # run a request using our params dictionary\n",
    "    response = requests.get(base_url, params=params)\n",
    "    response_json = response.json()\n",
    "    results = response_json['results']\n",
    "    if len(results) > 0:\n",
    "        name = response_json['results'][0]['name']\n",
    "        hotel_df.iloc[idx, -1] = name\n",
    "    idx = idx + 1\n",
    "\n"
   ]
  },
  {
   "cell_type": "code",
   "execution_count": 10,
   "metadata": {},
   "outputs": [
    {
     "data": {
      "text/html": [
       "<div>\n",
       "<style scoped>\n",
       "    .dataframe tbody tr th:only-of-type {\n",
       "        vertical-align: middle;\n",
       "    }\n",
       "\n",
       "    .dataframe tbody tr th {\n",
       "        vertical-align: top;\n",
       "    }\n",
       "\n",
       "    .dataframe thead th {\n",
       "        text-align: right;\n",
       "    }\n",
       "</style>\n",
       "<table border=\"1\" class=\"dataframe\">\n",
       "  <thead>\n",
       "    <tr style=\"text-align: right;\">\n",
       "      <th></th>\n",
       "      <th>City</th>\n",
       "      <th>Cloudiness</th>\n",
       "      <th>Country</th>\n",
       "      <th>Date</th>\n",
       "      <th>Humidity</th>\n",
       "      <th>Lat</th>\n",
       "      <th>Lng</th>\n",
       "      <th>Max Temp</th>\n",
       "      <th>Wind Speed</th>\n",
       "      <th>Hotel Name</th>\n",
       "    </tr>\n",
       "  </thead>\n",
       "  <tbody>\n",
       "    <tr>\n",
       "      <th>22</th>\n",
       "      <td>Oussouye</td>\n",
       "      <td>0</td>\n",
       "      <td>SN</td>\n",
       "      <td>1607548883</td>\n",
       "      <td>78</td>\n",
       "      <td>12.48</td>\n",
       "      <td>-16.55</td>\n",
       "      <td>75.20</td>\n",
       "      <td>4.70</td>\n",
       "      <td>Campement ALULUM</td>\n",
       "    </tr>\n",
       "    <tr>\n",
       "      <th>219</th>\n",
       "      <td>Quelimane</td>\n",
       "      <td>0</td>\n",
       "      <td>MZ</td>\n",
       "      <td>1607548906</td>\n",
       "      <td>78</td>\n",
       "      <td>-17.88</td>\n",
       "      <td>36.89</td>\n",
       "      <td>78.01</td>\n",
       "      <td>3.36</td>\n",
       "      <td>Hotel Elite</td>\n",
       "    </tr>\n",
       "    <tr>\n",
       "      <th>246</th>\n",
       "      <td>Chui</td>\n",
       "      <td>0</td>\n",
       "      <td>UY</td>\n",
       "      <td>1607548909</td>\n",
       "      <td>69</td>\n",
       "      <td>-33.70</td>\n",
       "      <td>-53.46</td>\n",
       "      <td>72.25</td>\n",
       "      <td>9.80</td>\n",
       "      <td>Turis Firper Hotel</td>\n",
       "    </tr>\n",
       "    <tr>\n",
       "      <th>356</th>\n",
       "      <td>Miracatu</td>\n",
       "      <td>0</td>\n",
       "      <td>BR</td>\n",
       "      <td>1607548922</td>\n",
       "      <td>72</td>\n",
       "      <td>-24.28</td>\n",
       "      <td>-47.46</td>\n",
       "      <td>78.71</td>\n",
       "      <td>4.74</td>\n",
       "      <td>Hotel Ubirajara</td>\n",
       "    </tr>\n",
       "    <tr>\n",
       "      <th>372</th>\n",
       "      <td>Valdivia</td>\n",
       "      <td>0</td>\n",
       "      <td>CL</td>\n",
       "      <td>1607548703</td>\n",
       "      <td>49</td>\n",
       "      <td>-39.81</td>\n",
       "      <td>-73.25</td>\n",
       "      <td>71.60</td>\n",
       "      <td>8.05</td>\n",
       "      <td>Hotel Naguilan</td>\n",
       "    </tr>\n",
       "    <tr>\n",
       "      <th>427</th>\n",
       "      <td>Kibala</td>\n",
       "      <td>0</td>\n",
       "      <td>TD</td>\n",
       "      <td>1607548930</td>\n",
       "      <td>73</td>\n",
       "      <td>9.11</td>\n",
       "      <td>18.35</td>\n",
       "      <td>71.60</td>\n",
       "      <td>3.85</td>\n",
       "      <td>Hôtel des Chasses</td>\n",
       "    </tr>\n",
       "  </tbody>\n",
       "</table>\n",
       "</div>"
      ],
      "text/plain": [
       "          City  Cloudiness Country        Date  Humidity    Lat    Lng  \\\n",
       "22    Oussouye           0      SN  1607548883        78  12.48 -16.55   \n",
       "219  Quelimane           0      MZ  1607548906        78 -17.88  36.89   \n",
       "246       Chui           0      UY  1607548909        69 -33.70 -53.46   \n",
       "356   Miracatu           0      BR  1607548922        72 -24.28 -47.46   \n",
       "372   Valdivia           0      CL  1607548703        49 -39.81 -73.25   \n",
       "427     Kibala           0      TD  1607548930        73   9.11  18.35   \n",
       "\n",
       "     Max Temp  Wind Speed          Hotel Name  \n",
       "22      75.20        4.70    Campement ALULUM  \n",
       "219     78.01        3.36         Hotel Elite  \n",
       "246     72.25        9.80  Turis Firper Hotel  \n",
       "356     78.71        4.74     Hotel Ubirajara  \n",
       "372     71.60        8.05      Hotel Naguilan  \n",
       "427     71.60        3.85   Hôtel des Chasses  "
      ]
     },
     "execution_count": 10,
     "metadata": {},
     "output_type": "execute_result"
    }
   ],
   "source": [
    "hotel_df"
   ]
  },
  {
   "cell_type": "code",
   "execution_count": 8,
   "metadata": {},
   "outputs": [],
   "source": [
    "# NOTE: Do not change any of the code in this cell\n",
    "\n",
    "# Using the template add the hotel marks to the heatmap\n",
    "info_box_template = \"\"\"\n",
    "<dl>\n",
    "<dt>Name</dt><dd>{Hotel Name}</dd>\n",
    "<dt>City</dt><dd>{City}</dd>\n",
    "<dt>Country</dt><dd>{Country}</dd>\n",
    "</dl>\n",
    "\"\"\"\n",
    "# Store the DataFrame Row\n",
    "# NOTE: be sure to update with your DataFrame name\n",
    "hotel_info = [info_box_template.format(**row) for index, row in hotel_df.iterrows()]\n",
    "locations = hotel_df[[\"Lat\", \"Lng\"]]"
   ]
  },
  {
   "cell_type": "code",
   "execution_count": 11,
   "metadata": {},
   "outputs": [
    {
     "data": {
      "application/vnd.jupyter.widget-view+json": {
       "model_id": "8409938e9f3e468abb121293945d2e09",
       "version_major": 2,
       "version_minor": 0
      },
      "text/plain": [
       "Map(configuration={'api_key': None}, data_bounds=[(-55.62418606005134, -179.99999), (85.0, 179.99999)], layers…"
      ]
     },
     "metadata": {},
     "output_type": "display_data"
    }
   ],
   "source": [
    "# Add marker layer ontop of heat map\n",
    "marker_layer = gmaps.marker_layer(locations, info_box_content=hotel_info)\n",
    "fig.add_layer(marker_layer)\n",
    "\n",
    "# Display figure\n",
    "fig"
   ]
  },
  {
   "cell_type": "code",
   "execution_count": null,
   "metadata": {},
   "outputs": [],
   "source": []
  }
 ],
 "metadata": {
  "kernelspec": {
   "display_name": "Python 3",
   "language": "python",
   "name": "python3"
  },
  "language_info": {
   "codemirror_mode": {
    "name": "ipython",
    "version": 3
   },
   "file_extension": ".py",
   "mimetype": "text/x-python",
   "name": "python",
   "nbconvert_exporter": "python",
   "pygments_lexer": "ipython3",
   "version": "3.6.10"
  },
  "latex_envs": {
   "LaTeX_envs_menu_present": true,
   "autoclose": false,
   "autocomplete": true,
   "bibliofile": "biblio.bib",
   "cite_by": "apalike",
   "current_citInitial": 1,
   "eqLabelWithNumbers": true,
   "eqNumInitial": 1,
   "hotkeys": {
    "equation": "Ctrl-E",
    "itemize": "Ctrl-I"
   },
   "labels_anchors": false,
   "latex_user_defs": false,
   "report_style_numbering": false,
   "user_envs_cfg": false
  }
 },
 "nbformat": 4,
 "nbformat_minor": 4
}
